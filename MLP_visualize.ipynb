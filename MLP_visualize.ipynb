{
 "cells": [
  {
   "cell_type": "code",
   "execution_count": 1,
   "metadata": {},
   "outputs": [],
   "source": [
    "import pickle\n",
    "import numpy as np\n",
    "import tensorflow as tf\n",
    "import os\n",
    "\n",
    "# Get the data\n",
    "def unpickle(file):\n",
    "    with open(file, 'rb') as fo:\n",
    "        dict = pickle.load(fo, encoding='bytes')\n",
    "    return dict\n",
    "\n",
    "\n",
    "def get_data(file_path, first_class, second_class):\n",
    "    \n",
    "    unpickled_file = unpickle(file_path)\n",
    "    inputs = unpickled_file[b'data']\n",
    "    labels = unpickled_file[b'labels']\n",
    "    \n",
    "    # Extract inputs and labels only in the first and the second class\n",
    "    labels = np.array(labels)\n",
    "    new_inputs = inputs[np.array([i for i in range(len(labels)) if labels[i] == first_class or labels[i] == second_class]),] \n",
    "    new_labels = labels[np.array([i for i in range(len(labels)) if labels[i] == first_class or labels[i] == second_class])]\n",
    "    \n",
    "    # Change the labels \n",
    "    new_labels[np.array([i for i in range(len(new_labels)) if new_labels[i] == first_class])] = 0\n",
    "    new_labels[np.array([i for i in range(len(new_labels)) if new_labels[i] == second_class])] = 1\n",
    "    \n",
    "    # Normalize the inputs\n",
    "    new_inputs = new_inputs/255.0\n",
    "    new_inputs = new_inputs.astype(np.float32)\n",
    "    \n",
    "    # Onehot labels\n",
    "    new_labels = tf.one_hot(new_labels, depth =2)\n",
    "    \n",
    "    return (new_inputs, new_labels)\n",
    "\n",
    "\n",
    "class MLP(tf.keras.Model):\n",
    "    def __init__(self, pixel_size):\n",
    "        \n",
    "        self.pixel_size = pixel_size\n",
    "        self.hidden_size = 128\n",
    "        self.batch_size = 64\n",
    "        \n",
    "        super(MLP, self).__init__()\n",
    "        self.W1 = tf.Variable(tf.random.truncated_normal([self.pixel_size, self.hidden_size], stddev = 0.1))\n",
    "        self.b1 = tf.Variable(tf.random.truncated_normal([self.hidden_size], stddev = 0.1))\n",
    "        self.W2 = tf.Variable(tf.random.truncated_normal([self.hidden_size, 2], stddev = 0.1))\n",
    "        self.b2 = tf.Variable(tf.random.truncated_normal([2], stddev = 0.1))\n",
    "        \n",
    "    def call(self, inputs):\n",
    "        output1 = tf.add(tf.linalg.matmul(inputs, self.W1), self.b1)\n",
    "        final_output1 = tf.nn.relu(output1)\n",
    "        logits = tf.add(tf.linalg.matmul(final_output1, self.W2), self.b2)\n",
    "        \n",
    "        return logits\n",
    "    \n",
    "    def loss(self, logits, labels):\n",
    "        loss = tf.nn.softmax_cross_entropy_with_logits(labels = labels, logits = logits)\n",
    "        return tf.reduce_mean(loss)\n",
    "    \n",
    "    def accuracy(self, logits, labels,):\n",
    "        correct_predictions = tf.equal(tf.argmax(logits, 1), tf.argmax(labels, 1))\n",
    "        return tf.reduce_mean(tf.cast(correct_predictions, tf.float32))\n",
    "    \n",
    "    \n",
    "def train(model, train_inputs, train_labels):\n",
    "    optimizer = tf.keras.optimizers.Adam(learning_rate=5e-3)\n",
    "    \n",
    "    for x in range(0, train_inputs.shape[0], model.batch_size):\n",
    "        batch_inputs = train_inputs[x: x + model.batch_size, :]\n",
    "        batch_labels = train_labels[x: x + model.batch_size]\n",
    "        \n",
    "        # Optimize gradients\n",
    "        with tf.GradientTape() as tape:\n",
    "            predictions = model.call(batch_inputs)\n",
    "            loss = model.loss(predictions, batch_labels)\n",
    "      \n",
    "        \n",
    "        gradients = tape.gradient(loss, model.trainable_variables)\n",
    "        optimizer.apply_gradients(zip(gradients, model.trainable_variables))\n",
    "        \n",
    "        \n",
    "def test(model, test_inputs, test_labels):\n",
    "    acc = []\n",
    "    for x in range(0, test_inputs.shape[0], model.batch_size):\n",
    "        batch_inputs = test_inputs[x: x + model.batch_size, :]\n",
    "        batch_labels = test_labels[x: x + model.batch_size]\n",
    "        \n",
    "        predictions = model.call(batch_inputs)\n",
    "        acc.append(model.accuracy(predictions, batch_labels))\n",
    "    \n",
    "    return np.mean(acc)"
   ]
  },
  {
   "cell_type": "code",
   "execution_count": 2,
   "metadata": {},
   "outputs": [
    {
     "name": "stdout",
     "output_type": "stream",
     "text": [
      "0.5673828\n",
      "Accuracy on test set after 1 epochs steps: 0.5673828125\n",
      "tf.Tensor(\n",
      "[-0.02394289 -0.01322264 -0.01316638 ... -0.01258605 -0.004832\n",
      " -0.01909848], shape=(3072,), dtype=float32)\n"
     ]
    }
   ],
   "source": [
    "# Get the data\n",
    "(inputs, labels) = get_data('train', first_class=3, second_class=5)\n",
    "(test_inputs, test_labels) = get_data('test', first_class=3, second_class=5)\n",
    "model = MLP(3072)\n",
    "\n",
    "epochs = 1\n",
    "for i in range(epochs):\n",
    "    train(model, inputs, labels)\n",
    "    test_acc = test(model, test_inputs, test_labels)\n",
    "    print(test_acc)\n",
    "\n",
    "print(\"Accuracy on test set after {} epochs steps: {}\".format(epochs, test_acc))\n",
    "\n",
    "#print(model.W1)\n",
    "\n",
    "W1 = model.W1\n",
    "#b1 = model.b1\n",
    "W2 = model.W2\n",
    "#b2 = model.b2\n",
    "\n",
    "# r = tf.constant(tf.random.truncated_normal(shape=[3072],stddev=0.001))\n",
    "x = tf.reshape(inputs[0,],[-1,3072])\n",
    "k_pred = tf.argmax(model(x), 1).numpy()[0]\n",
    "k_true = tf.argmax(model(tf.reshape(inputs[0,],[-1,3072])), 1).numpy()[0]\n",
    "r_out = tf.constant(0,shape=[3072],dtype=tf.float32)\n",
    "while k_pred == k_true:\n",
    "    gradient = tf.matmul(W1,W2)[:,1-k_true] - tf.matmul(W1,W2)[:,k_true]\n",
    "    f_k = model(x)[:,1-k_true] - model(x)[:,k_true]\n",
    "    r = tf.abs(f_k) / tf.square(tf.norm(gradient)) * gradient\n",
    "    x += r\n",
    "    k_pred = tf.argmax(model(x), 1).numpy()[0]\n",
    "    r_out += r\n",
    "print(r_out)\n",
    "\n"
   ]
  },
  {
   "cell_type": "code",
   "execution_count": 9,
   "metadata": {},
   "outputs": [
    {
     "data": {
      "text/plain": [
       "<tf.Tensor: id=279427, shape=(3, 32, 32), dtype=float32, numpy=\n",
       "array([[[0.4662536 , 0.41815037, 0.38683397, ..., 0.75226486,\n",
       "         0.7854587 , 0.7644795 ],\n",
       "        [0.5598421 , 0.5952021 , 0.6590681 , ..., 0.7224291 ,\n",
       "         0.7669484 , 0.8135912 ],\n",
       "        [0.6991694 , 0.54341424, 0.59117675, ..., 0.50296795,\n",
       "         0.58091795, 0.5847884 ],\n",
       "        ...,\n",
       "        [0.3866131 , 0.36843848, 0.37848374, ..., 0.47404897,\n",
       "         0.4693092 , 0.48421848],\n",
       "        [0.4076635 , 0.40936887, 0.41613272, ..., 0.5201781 ,\n",
       "         0.54290324, 0.5379763 ],\n",
       "        [0.4068474 , 0.413647  , 0.45211002, ..., 0.5327868 ,\n",
       "         0.5506413 , 0.5451943 ]],\n",
       "\n",
       "       [[0.49359593, 0.4020847 , 0.3634901 , ..., 0.80428004,\n",
       "         0.8020971 , 0.8027281 ],\n",
       "        [0.5597864 , 0.57360744, 0.67333776, ..., 0.79297054,\n",
       "         0.8068179 , 0.81332487],\n",
       "        [0.74749374, 0.60615647, 0.58411497, ..., 0.43552116,\n",
       "         0.51666635, 0.58288264],\n",
       "        ...,\n",
       "        [0.3157338 , 0.3319668 , 0.29215342, ..., 0.38894126,\n",
       "         0.42690298, 0.33928427],\n",
       "        [0.31517604, 0.31550258, 0.3484742 , ..., 0.4685455 ,\n",
       "         0.44986963, 0.4000677 ],\n",
       "        [0.29313713, 0.33851   , 0.37131578, ..., 0.43725348,\n",
       "         0.41876623, 0.4819507 ]],\n",
       "\n",
       "       [[0.44954565, 0.3653137 , 0.3321797 , ..., 0.842171  ,\n",
       "         0.7976667 , 0.82222867],\n",
       "        [0.53481483, 0.5114817 , 0.641814  , ..., 0.78513193,\n",
       "         0.8384401 , 0.84855783],\n",
       "        [0.6941128 , 0.58895   , 0.60028183, ..., 0.45726147,\n",
       "         0.48413146, 0.5779778 ],\n",
       "        ...,\n",
       "        [0.13985097, 0.1530385 , 0.13465665, ..., 0.20460095,\n",
       "         0.26958963, 0.24608411],\n",
       "        [0.13366804, 0.15228197, 0.13033608, ..., 0.2857118 ,\n",
       "         0.28734514, 0.30124104],\n",
       "        [0.16055778, 0.19340964, 0.1342931 , ..., 0.308983  ,\n",
       "         0.32457992, 0.3181568 ]]], dtype=float32)>"
      ]
     },
     "execution_count": 9,
     "metadata": {},
     "output_type": "execute_result"
    }
   ],
   "source": [
    "tf.reshape(x,[3,32,32])"
   ]
  },
  {
   "cell_type": "code",
   "execution_count": 17,
   "metadata": {},
   "outputs": [
    {
     "data": {
      "image/png": "[encoded data removed]",
      "text/plain": [
       "<Figure size 432x288 with 1 Axes>"
      ]
     },
     "metadata": {
      "needs_background": "light"
     },
     "output_type": "display_data"
    },
    {
     "data": {
      "image/png": "[encoded data removed]",
      "text/plain": [
       "<Figure size 432x288 with 1 Axes>"
      ]
     },
     "metadata": {
      "needs_background": "light"
     },
     "output_type": "display_data"
    }
   ],
   "source": [
    "from matplotlib import pyplot as plt\n",
    "\n",
    "# original image\n",
    "plt.imshow(tf.reshape(inputs[0,],[3,32,32]).numpy().transpose(1,2,0))\n",
    "plt.show()\n",
    "# after adding noise\n",
    "plt.imshow(tf.reshape(x,[3,32,32]).numpy().transpose(1,2,0))\n",
    "plt.show()"
   ]
  }
 ],
 "metadata": {
  "kernelspec": {
   "display_name": "Python 3",
   "language": "python",
   "name": "python3"
  },
  "language_info": {
   "codemirror_mode": {
    "name": "ipython",
    "version": 3
   },
   "file_extension": ".py",
   "mimetype": "text/x-python",
   "name": "python",
   "nbconvert_exporter": "python",
   "pygments_lexer": "ipython3",
   "version": "3.7.3"
  }
 },
 "nbformat": 4,
 "nbformat_minor": 2
}
